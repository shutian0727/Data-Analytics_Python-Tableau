{
 "cells": [
  {
   "cell_type": "code",
   "execution_count": 2,
   "metadata": {},
   "outputs": [
    {
     "name": "stdout",
     "output_type": "stream",
     "text": [
      "http://udacity.com\n"
     ]
    }
   ],
   "source": [
    "# TylerXu-Self study note\n",
    "# L1: Extracting Links\n",
    "\n",
    "# Extract value of the first URL that appears in a link \n",
    "# tag in the string page. result http://udacity.com\n",
    "# page = contents of a web page\n",
    "page =('<div id=\"top_bin\"><div id=\"top_content\" class=\"width960\">'\n",
    "'<div class=\"udacity float-left\"><a href=\"http://udacity.com\">')\n",
    "start_link = page.find('<a href=')\n",
    "start_quote= start_link+9\n",
    "end=page.find('>', start_quote+1)\n",
    "url=page[start_quote: end-1]\n",
    "print (url)"
   ]
  },
  {
   "cell_type": "code",
   "execution_count": 1,
   "metadata": {},
   "outputs": [
    {
     "name": "stdout",
     "output_type": "stream",
     "text": [
      "3\n"
     ]
    }
   ],
   "source": [
    "# Given a variable, x, that stores the \n",
    "# value of any decimal number, write Python \n",
    "# code that prints out the nearest whole \n",
    "# number to x.\n",
    "# You may assume x is not negative.\n",
    "\n",
    "# x = 3.14159 \n",
    "# >>> 3 (not 3.0)\n",
    "# x = 27.63 \n",
    "# >>> 28 (not 28.0)\n",
    "# x = 3.5 \n",
    "# >>> 4 (not 4.0)\n",
    "x = 3.14159\n",
    "\n",
    "#ENTER CODE BELOW HERE\n",
    "a=x+0.5\n",
    "dot_s=str(a).find('.')\n",
    "number=str(a)[0:dot_s]\n",
    "print (number)\n"
   ]
  },
  {
   "cell_type": "code",
   "execution_count": 4,
   "metadata": {},
   "outputs": [
    {
     "name": "stdout",
     "output_type": "stream",
     "text": [
      "I will now go to sleep and be away from keyboard until lunch time tomorrow.\n",
      "0\n"
     ]
    }
   ],
   "source": [
    "# Example 1\n",
    "marker = \"AFK\"\n",
    "replacement = \"away from keyboard\"\n",
    "line = \"I will now go to sleep and be AFK until lunch time tomorrow.\"\n",
    "\n",
    "# Example 2 # uncomment this to test with different input\n",
    "#marker = \"EY\"\n",
    "#replacement = \"Eyjafjallajokull\"\n",
    "#line = \"The eruption of the volcano EY in 2010 disrupted air travel in Europe for 6 days.\"\n",
    "\n",
    "start=line.find(marker)\n",
    "replaced =line[:start]+replacement+line[len(marker)+start:]\n",
    "print (replaced)\n",
    "\n",
    "# checks if a word is a palindrome. \n",
    "# The word contains lowercase letters a-z and \n",
    "# will be at least one character long.\n",
    "### note ###\n",
    "# read a string backwards string[::-1] \n",
    "# test case 2\n",
    "word = \"madam\"\n",
    "is_palindrome =word.find(word[::-1])\n",
    "\n",
    "# TESTING\n",
    "print (is_palindrome)\n",
    "# >>> 0  # outcome if word == \"madam\"\n",
    "# >>> -1 # outcome if word == \"madman\""
   ]
  },
  {
   "cell_type": "code",
   "execution_count": 6,
   "metadata": {},
   "outputs": [
    {
     "name": "stdout",
     "output_type": "stream",
     "text": [
      "25\n",
      "7\n",
      "True\n",
      "True\n",
      "True\n",
      "True\n",
      "False\n",
      "True\n",
      "9\n"
     ]
    }
   ],
   "source": [
    "# Example 2\n",
    "\n",
    "# a search string and a target string. \n",
    "# It should return the position of the second\n",
    "# occurrence of the target string in the\n",
    "# search string.\n",
    "def find_second(str1, str2):\n",
    "    position1=str1.find(str2)\n",
    "    position2=str1.find(str2,position1+1)\n",
    "    return position2\n",
    "danton = \"De l'audace, encore de l'audace, toujours de l'audace\"\n",
    "print (find_second(danton, 'audace'))\n",
    "\n",
    "#CODE PRACTICE\n",
    "def bigger(a,b):\n",
    "    if (a>=b):\n",
    "        return a\n",
    "    return b\n",
    "print (bigger(2,7))\n",
    "\n",
    "def is_friend(string):\n",
    "    return string[0]=='D'\n",
    "print (is_friend('Diane'))\n",
    "\n",
    "#or practice\n",
    "print (True or False)\n",
    "print (False or True)\n",
    "print (True or True)\n",
    "print (False or False)\n",
    "print (False or True)\n",
    "\n",
    "# biggest, takes three numbers \n",
    "# returns the largest number.\n",
    "def biggest(a,b,c):\n",
    "    if a>=b>=c or a>=c>=b:\n",
    "        return a\n",
    "    if b>=a>=c or b>=c>=a:\n",
    "        return b\n",
    "    return c\n",
    "print (biggest(3, 6, 9))"
   ]
  },
  {
   "cell_type": "code",
   "execution_count": null,
   "metadata": {},
   "outputs": [],
   "source": []
  },
  {
   "cell_type": "code",
   "execution_count": null,
   "metadata": {},
   "outputs": [],
   "source": []
  }
 ],
 "metadata": {
  "kernelspec": {
   "display_name": "Python 3",
   "language": "python",
   "name": "python3"
  },
  "language_info": {
   "codemirror_mode": {
    "name": "ipython",
    "version": 3
   },
   "file_extension": ".py",
   "mimetype": "text/x-python",
   "name": "python",
   "nbconvert_exporter": "python",
   "pygments_lexer": "ipython3",
   "version": "3.6.5"
  }
 },
 "nbformat": 4,
 "nbformat_minor": 2
}
