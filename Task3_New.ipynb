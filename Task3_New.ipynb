{
 "cells": [
  {
   "cell_type": "code",
   "execution_count": 189,
   "metadata": {},
   "outputs": [],
   "source": [
    "import pandas as pd\n",
    "from datetime import date\n",
    "from datetime import timedelta "
   ]
  },
  {
   "cell_type": "code",
   "execution_count": 190,
   "metadata": {},
   "outputs": [],
   "source": [
    "#Read in the dataset\n",
    "dataset2=pd.read_csv('Users\\welcomemymaster\\Desktop\\sT\\/Dataset_2_original.txt',sep=\"\\t\" )\n",
    "dataset2.head()"
   ]
  },
  {
   "cell_type": "code",
   "execution_count": 192,
   "metadata": {},
   "outputs": [
    {
     "data": {
      "text/plain": [
       "0   2 days\n",
       "1   2 days\n",
       "2   3 days\n",
       "3   0 days\n",
       "4   1 days\n",
       "Name: Processing Days, dtype: timedelta64[ns]"
      ]
     },
     "execution_count": 192,
     "metadata": {},
     "output_type": "execute_result"
    }
   ],
   "source": [
    "#Create a new column: Processing Days: Date sent to company - Date received\n",
    "dataset2['Processing Days']=pd.to_datetime(dataset2['Date sent to company'])-pd.to_datetime(dataset2['Date received'])\n",
    "dataset2['Processing Days'].head()"
   ]
  },
  {
   "cell_type": "code",
   "execution_count": 194,
   "metadata": {},
   "outputs": [
    {
     "data": {
      "text/html": [
       "<div>\n",
       "<style scoped>\n",
       "    .dataframe tbody tr th:only-of-type {\n",
       "        vertical-align: middle;\n",
       "    }\n",
       "\n",
       "    .dataframe tbody tr th {\n",
       "        vertical-align: top;\n",
       "    }\n",
       "\n",
       "    .dataframe thead th {\n",
       "        text-align: right;\n",
       "    }\n",
       "</style>\n",
       "<table border=\"1\" class=\"dataframe\">\n",
       "  <thead>\n",
       "    <tr style=\"text-align: right;\">\n",
       "      <th></th>\n",
       "      <th>Date received</th>\n",
       "      <th>Product</th>\n",
       "      <th>Sub-product</th>\n",
       "      <th>Issue</th>\n",
       "      <th>Company</th>\n",
       "      <th>State</th>\n",
       "      <th>ZIP code</th>\n",
       "      <th>Tags</th>\n",
       "      <th>Submitted via</th>\n",
       "      <th>Date sent to company</th>\n",
       "      <th>Company response to consumer</th>\n",
       "      <th>Timely response?</th>\n",
       "      <th>Consumer disputed?</th>\n",
       "      <th>Complaint ID</th>\n",
       "      <th>Processing Days</th>\n",
       "    </tr>\n",
       "  </thead>\n",
       "  <tbody>\n",
       "    <tr>\n",
       "      <th>6</th>\n",
       "      <td>NaN</td>\n",
       "      <td>Mortgage</td>\n",
       "      <td>Other mortgage</td>\n",
       "      <td>Loan modification,collection,foreclosure</td>\n",
       "      <td>BANK OF AMERICA, NATIONAL ASSOCIATION</td>\n",
       "      <td>NY</td>\n",
       "      <td>11501.0</td>\n",
       "      <td>NaN</td>\n",
       "      <td>Referral</td>\n",
       "      <td>5/18/12</td>\n",
       "      <td>Closed without relief</td>\n",
       "      <td>Yes</td>\n",
       "      <td>No</td>\n",
       "      <td>82678</td>\n",
       "      <td>NaT</td>\n",
       "    </tr>\n",
       "    <tr>\n",
       "      <th>27</th>\n",
       "      <td>NaN</td>\n",
       "      <td>Mortgage</td>\n",
       "      <td>FHA mortgage</td>\n",
       "      <td>Loan modification,collection,foreclosure</td>\n",
       "      <td>BANK OF AMERICA, NATIONAL ASSOCIATION</td>\n",
       "      <td>MA</td>\n",
       "      <td>2333.0</td>\n",
       "      <td>NaN</td>\n",
       "      <td>Web</td>\n",
       "      <td>2/29/12</td>\n",
       "      <td>Closed without relief</td>\n",
       "      <td>Yes</td>\n",
       "      <td>No</td>\n",
       "      <td>28013</td>\n",
       "      <td>NaT</td>\n",
       "    </tr>\n",
       "    <tr>\n",
       "      <th>42</th>\n",
       "      <td>NaN</td>\n",
       "      <td>Student loan</td>\n",
       "      <td>Non-federal student loan</td>\n",
       "      <td>Repaying your loan</td>\n",
       "      <td>ACS Education Services</td>\n",
       "      <td>CA</td>\n",
       "      <td>92129.0</td>\n",
       "      <td>NaN</td>\n",
       "      <td>Web</td>\n",
       "      <td>6/15/12</td>\n",
       "      <td>Closed with non-monetary relief</td>\n",
       "      <td>Yes</td>\n",
       "      <td>No</td>\n",
       "      <td>97429</td>\n",
       "      <td>NaT</td>\n",
       "    </tr>\n",
       "    <tr>\n",
       "      <th>60</th>\n",
       "      <td>NaN</td>\n",
       "      <td>Mortgage</td>\n",
       "      <td>Other mortgage</td>\n",
       "      <td>Loan modification,collection,foreclosure</td>\n",
       "      <td>BANK OF AMERICA, NATIONAL ASSOCIATION</td>\n",
       "      <td>CA</td>\n",
       "      <td>92675.0</td>\n",
       "      <td>NaN</td>\n",
       "      <td>Referral</td>\n",
       "      <td>6/14/12</td>\n",
       "      <td>Closed with non-monetary relief</td>\n",
       "      <td>Yes</td>\n",
       "      <td>No</td>\n",
       "      <td>96219</td>\n",
       "      <td>NaT</td>\n",
       "    </tr>\n",
       "    <tr>\n",
       "      <th>90</th>\n",
       "      <td>NaN</td>\n",
       "      <td>Credit card</td>\n",
       "      <td>NaN</td>\n",
       "      <td>Late fee</td>\n",
       "      <td>BANK OF AMERICA, NATIONAL ASSOCIATION</td>\n",
       "      <td>CA</td>\n",
       "      <td>90291.0</td>\n",
       "      <td>NaN</td>\n",
       "      <td>Referral</td>\n",
       "      <td>4/05/12</td>\n",
       "      <td>Closed with relief</td>\n",
       "      <td>Yes</td>\n",
       "      <td>No</td>\n",
       "      <td>40742</td>\n",
       "      <td>NaT</td>\n",
       "    </tr>\n",
       "    <tr>\n",
       "      <th>117</th>\n",
       "      <td>NaN</td>\n",
       "      <td>Credit card</td>\n",
       "      <td>NaN</td>\n",
       "      <td>Billing disputes</td>\n",
       "      <td>CAPITAL ONE FINANCIAL CORPORATION</td>\n",
       "      <td>PA</td>\n",
       "      <td>19148.0</td>\n",
       "      <td>NaN</td>\n",
       "      <td>Referral</td>\n",
       "      <td>3/01/12</td>\n",
       "      <td>Closed without relief</td>\n",
       "      <td>Yes</td>\n",
       "      <td>Yes</td>\n",
       "      <td>28727</td>\n",
       "      <td>NaT</td>\n",
       "    </tr>\n",
       "    <tr>\n",
       "      <th>144</th>\n",
       "      <td>NaN</td>\n",
       "      <td>Mortgage</td>\n",
       "      <td>Other mortgage</td>\n",
       "      <td>Loan modification,collection,foreclosure</td>\n",
       "      <td>NATIONSTAR MORTGAGE</td>\n",
       "      <td>NY</td>\n",
       "      <td>12563.0</td>\n",
       "      <td>NaN</td>\n",
       "      <td>Referral</td>\n",
       "      <td>4/24/12</td>\n",
       "      <td>Closed without relief</td>\n",
       "      <td>Yes</td>\n",
       "      <td>Yes</td>\n",
       "      <td>81437</td>\n",
       "      <td>NaT</td>\n",
       "    </tr>\n",
       "    <tr>\n",
       "      <th>168</th>\n",
       "      <td>NaN</td>\n",
       "      <td>Credit card</td>\n",
       "      <td>NaN</td>\n",
       "      <td>Identity theft / Fraud / Embezzlement</td>\n",
       "      <td>CITIBANK, N.A.</td>\n",
       "      <td>CA</td>\n",
       "      <td>91344.0</td>\n",
       "      <td>NaN</td>\n",
       "      <td>Referral</td>\n",
       "      <td>2/27/12</td>\n",
       "      <td>Closed with relief</td>\n",
       "      <td>Yes</td>\n",
       "      <td>No</td>\n",
       "      <td>27008</td>\n",
       "      <td>NaT</td>\n",
       "    </tr>\n",
       "  </tbody>\n",
       "</table>\n",
       "</div>"
      ],
      "text/plain": [
       "    Date received       Product               Sub-product  \\\n",
       "6             NaN      Mortgage            Other mortgage   \n",
       "27            NaN      Mortgage              FHA mortgage   \n",
       "42            NaN  Student loan  Non-federal student loan   \n",
       "60            NaN      Mortgage            Other mortgage   \n",
       "90            NaN   Credit card                       NaN   \n",
       "117           NaN   Credit card                       NaN   \n",
       "144           NaN      Mortgage            Other mortgage   \n",
       "168           NaN   Credit card                       NaN   \n",
       "\n",
       "                                        Issue  \\\n",
       "6    Loan modification,collection,foreclosure   \n",
       "27   Loan modification,collection,foreclosure   \n",
       "42                         Repaying your loan   \n",
       "60   Loan modification,collection,foreclosure   \n",
       "90                                   Late fee   \n",
       "117                          Billing disputes   \n",
       "144  Loan modification,collection,foreclosure   \n",
       "168     Identity theft / Fraud / Embezzlement   \n",
       "\n",
       "                                   Company State  ZIP code Tags Submitted via  \\\n",
       "6    BANK OF AMERICA, NATIONAL ASSOCIATION    NY   11501.0  NaN      Referral   \n",
       "27   BANK OF AMERICA, NATIONAL ASSOCIATION    MA    2333.0  NaN           Web   \n",
       "42                  ACS Education Services    CA   92129.0  NaN           Web   \n",
       "60   BANK OF AMERICA, NATIONAL ASSOCIATION    CA   92675.0  NaN      Referral   \n",
       "90   BANK OF AMERICA, NATIONAL ASSOCIATION    CA   90291.0  NaN      Referral   \n",
       "117      CAPITAL ONE FINANCIAL CORPORATION    PA   19148.0  NaN      Referral   \n",
       "144                    NATIONSTAR MORTGAGE    NY   12563.0  NaN      Referral   \n",
       "168                         CITIBANK, N.A.    CA   91344.0  NaN      Referral   \n",
       "\n",
       "    Date sent to company     Company response to consumer Timely response?  \\\n",
       "6                5/18/12            Closed without relief              Yes   \n",
       "27               2/29/12            Closed without relief              Yes   \n",
       "42               6/15/12  Closed with non-monetary relief              Yes   \n",
       "60               6/14/12  Closed with non-monetary relief              Yes   \n",
       "90               4/05/12               Closed with relief              Yes   \n",
       "117              3/01/12            Closed without relief              Yes   \n",
       "144              4/24/12            Closed without relief              Yes   \n",
       "168              2/27/12               Closed with relief              Yes   \n",
       "\n",
       "    Consumer disputed?  Complaint ID Processing Days  \n",
       "6                   No         82678             NaT  \n",
       "27                  No         28013             NaT  \n",
       "42                  No         97429             NaT  \n",
       "60                  No         96219             NaT  \n",
       "90                  No         40742             NaT  \n",
       "117                Yes         28727             NaT  \n",
       "144                Yes         81437             NaT  \n",
       "168                 No         27008             NaT  "
      ]
     },
     "execution_count": 194,
     "metadata": {},
     "output_type": "execute_result"
    }
   ],
   "source": [
    "#Check which product type do missign values fall in and fill in missing values based on the mdeian of processing days\n",
    "\n",
    "dataset2[pd.isnull(dataset2['Date received'])]['Product'].unique()"
   ]
  },
  {
   "cell_type": "code",
   "execution_count": 196,
   "metadata": {},
   "outputs": [],
   "source": [
    "#Get records where Date_Received of the 3 Products is not null to get the median of processing days\n",
    "Mortgae_W_Date = dataset2[pd.notnull(dataset2['Date received'])].loc[dataset2['Product']=='Mortgage']\n",
    "StudentLoan_W_Date = dataset2[pd.notnull(dataset2['Date received'])].loc[dataset2['Product']=='Student loan']\n",
    "CreditCard_W_Date = dataset2[pd.notnull(dataset2['Date received'])].loc[dataset2['Product']=='Credit card']"
   ]
  },
  {
   "cell_type": "code",
   "execution_count": 198,
   "metadata": {},
   "outputs": [],
   "source": [
    "# Get a subset of records where Date received is not null and product type are in ('Mortgage','Student loan','Credit card')\n",
    "Product_W_Date = dataset2[pd.notnull(dataset2['Date received'])].loc[dataset2['Product'].isin(['Mortgage','Student loan','Credit card'])]"
   ]
  },
  {
   "cell_type": "code",
   "execution_count": 199,
   "metadata": {},
   "outputs": [],
   "source": [
    "#convert deltatime into integer\n",
    "Product_W_Date['Processing Days'] = Product_W_Date['Processing Days'].dt.days.astype('int16')"
   ]
  },
  {
   "cell_type": "code",
   "execution_count": 200,
   "metadata": {},
   "outputs": [
    {
     "data": {
      "text/plain": [
       "array([[<matplotlib.axes._subplots.AxesSubplot object at 0x0000000009FD60B8>,\n",
       "        <matplotlib.axes._subplots.AxesSubplot object at 0x000000000B3EA7B8>],\n",
       "       [<matplotlib.axes._subplots.AxesSubplot object at 0x000000000B412E10>,\n",
       "        <matplotlib.axes._subplots.AxesSubplot object at 0x000000000B444518>]],\n",
       "      dtype=object)"
      ]
     },
     "execution_count": 200,
     "metadata": {},
     "output_type": "execute_result"
    },
    {
     "data": {
      "image/png": "[encoded data removed]",
      "text/plain": [
       "<Figure size 432x288 with 4 Axes>"
      ]
     },
     "metadata": {},
     "output_type": "display_data"
    }
   ],
   "source": [
    "#Draw histogram for each of the product type to see how the process days distribute\n",
    "Product_W_Date.hist(column='Processing Days', by='Product', bins=3)\n",
    "\n",
    "#Turns out the distribution is skewed so here I'm going to use Date sent -  median of processing time to fill in the null value of Date received"
   ]
  },
  {
   "cell_type": "code",
   "execution_count": 236,
   "metadata": {},
   "outputs": [],
   "source": [
    "#Get Median of processing days for each of the 3 product type\n",
    "Mortgage_Fill = Product_W_Date.loc[Product_W_Date['Product'] == 'Mortgage']['Processing Days'].median()\n",
    "StudentLoan_Fill = Product_W_Date.loc[Product_W_Date['Product'] == 'Student loan']['Processing Days'].median()\n",
    "CreditCard_Fill = Product_W_Date.loc[Product_W_Date['Product'] == 'Credit card']['Processing Days'].median()"
   ]
  },
  {
   "cell_type": "code",
   "execution_count": 237,
   "metadata": {},
   "outputs": [],
   "source": [
    "# Get records where there's missing Date received value for each of the 3 product\n",
    "Mortgae_WO_Date = dataset2[pd.isnull(dataset2['Date received'])].loc[dataset2['Product']=='Mortgage']\n",
    "StudentLoan_WO_Date = dataset2[pd.isnull(dataset2['Date received'])].loc[dataset2['Product']=='Student loan']\n",
    "CreditCard_WO_Date = dataset2[pd.isnull(dataset2['Date received'])].loc[dataset2['Product']=='Credit card']"
   ]
  },
  {
   "cell_type": "code",
   "execution_count": 238,
   "metadata": {},
   "outputs": [],
   "source": [
    "#Get the Date Received value from Date sent - median processing time for each of the 3 product \n",
    " \n",
    "Mortgae_WO_Date['Date received'] = pd.to_datetime(Mortgae_WO_Date['Date sent to company']) - timedelta(days=Mortgage_Fill)\n",
    "StudentLoan_WO_Date['Date received'] = pd.to_datetime(StudentLoan_WO_Date['Date sent to company']) - timedelta(days=StudentLoan_Fill)\n",
    "CreditCard_WO_Date['Date received'] = pd.to_datetime(CreditCard_WO_Date['Date sent to company']) - timedelta(days=CreditCard_Fill)"
   ]
  },
  {
   "cell_type": "code",
   "execution_count": 229,
   "metadata": {
    "collapsed": true
   },
   "outputs": [
    {
     "data": {
      "text/plain": [
       "2     2012-05-29\n",
       "6     2012-05-15\n",
       "7     2012-05-21\n",
       "8     2012-05-21\n",
       "9     2012-05-08\n",
       "10    2012-06-23\n",
       "11    2012-06-14\n",
       "12    2012-05-01\n",
       "13    2012-06-02\n",
       "15    2012-02-15\n",
       "19    2012-05-15\n",
       "20    2012-05-17\n",
       "21    2012-06-05\n",
       "23    2012-06-23\n",
       "25    2012-04-17\n",
       "26    2012-04-22\n",
       "27    2012-02-26\n",
       "28    2012-02-28\n",
       "29    2012-06-08\n",
       "31    2012-06-21\n",
       "35    2012-06-26\n",
       "36    2012-02-14\n",
       "38    2012-06-19\n",
       "39    2012-06-13\n",
       "40    2012-02-13\n",
       "41    2012-06-15\n",
       "43    2012-06-12\n",
       "44    2012-02-26\n",
       "45    2012-06-13\n",
       "46    2012-06-05\n",
       "         ...    \n",
       "115   2012-03-26\n",
       "116   2012-03-05\n",
       "119   2012-03-05\n",
       "123   2012-03-27\n",
       "125   2012-01-04\n",
       "126   2012-01-20\n",
       "128   2012-01-09\n",
       "129   2012-01-01\n",
       "130   2012-01-24\n",
       "131   2012-01-31\n",
       "132   2012-01-12\n",
       "133   2012-01-26\n",
       "134   2012-01-22\n",
       "135   2012-01-24\n",
       "136   2012-01-27\n",
       "138   2012-01-06\n",
       "139   2012-01-19\n",
       "140   2012-04-05\n",
       "143   2012-01-26\n",
       "144   2012-04-21\n",
       "147   2012-01-30\n",
       "151   2012-01-20\n",
       "152   2012-01-20\n",
       "153   2012-01-06\n",
       "155   2012-04-11\n",
       "156   2012-01-25\n",
       "160   2012-01-31\n",
       "161   2012-01-09\n",
       "165   2012-01-07\n",
       "172   2012-06-01\n",
       "Name: Date received, Length: 87, dtype: datetime64[ns]"
      ]
     },
     "execution_count": 229,
     "metadata": {},
     "output_type": "execute_result"
    }
   ],
   "source": [
    "#Fill Missing Value for Mortgage Product Type\n",
    "dataset2.loc[dataset2['Product']=='Mortgage', 'Date received'] = pd.to_datetime(dataset2.loc[dataset2['Product']=='Mortgage', 'Date received'].fillna(value=Mortgae_WO_Date['Date received']))\n",
    "pd.to_datetime(dataset2.loc[dataset2['Product']=='Mortgage', 'Date received'])"
   ]
  },
  {
   "cell_type": "code",
   "execution_count": 242,
   "metadata": {
    "collapsed": true
   },
   "outputs": [
    {
     "data": {
      "text/plain": [
       "0     2012-06-19\n",
       "24    2012-06-21\n",
       "30    2012-06-08\n",
       "42    2012-06-10\n",
       "50    2012-06-15\n",
       "55    2012-06-28\n",
       "78    2012-06-19\n",
       "81    2012-06-15\n",
       "99    2012-03-08\n",
       "112   2012-03-15\n",
       "Name: Date received, dtype: datetime64[ns]"
      ]
     },
     "execution_count": 242,
     "metadata": {},
     "output_type": "execute_result"
    }
   ],
   "source": [
    "#Fill Missing Value for StudentLoan Product Type\n",
    "dataset2.loc[dataset2['Product']=='Student loan', 'Date received'] = pd.to_datetime(dataset2.loc[dataset2['Product']=='Student loan', 'Date received'].fillna(value=StudentLoan_WO_Date['Date received']))\n",
    "pd.to_datetime(dataset2.loc[dataset2['Product']=='Student loan', 'Date received'])"
   ]
  },
  {
   "cell_type": "code",
   "execution_count": 243,
   "metadata": {
    "collapsed": true
   },
   "outputs": [
    {
     "data": {
      "text/plain": [
       "4     2012-04-05\n",
       "14    2012-06-20\n",
       "17    2012-04-11\n",
       "22    2012-06-02\n",
       "32    2012-06-19\n",
       "37    2012-06-05\n",
       "54    2012-06-30\n",
       "63    2012-06-20\n",
       "64    2012-06-29\n",
       "65    2012-06-27\n",
       "68    2012-06-16\n",
       "72    2012-06-19\n",
       "76    2012-06-27\n",
       "79    2012-06-19\n",
       "82    2012-06-27\n",
       "83    2012-03-11\n",
       "87    2012-03-05\n",
       "88    2012-03-29\n",
       "89    2012-03-06\n",
       "90    2012-04-03\n",
       "91    2012-03-26\n",
       "97    2012-03-18\n",
       "103   2012-03-14\n",
       "108   2012-03-27\n",
       "109   2012-03-09\n",
       "110   2012-03-02\n",
       "117   2012-02-28\n",
       "118   2012-03-02\n",
       "127   2012-01-17\n",
       "137   2012-04-02\n",
       "141   2012-01-17\n",
       "142   2012-01-27\n",
       "145   2012-01-31\n",
       "146   2012-01-31\n",
       "148   2012-01-18\n",
       "149   2012-04-27\n",
       "154   2012-04-14\n",
       "157   2012-01-09\n",
       "158   2012-04-20\n",
       "162   2012-02-18\n",
       "164   2012-04-10\n",
       "166   2012-01-06\n",
       "167   2012-05-30\n",
       "168   2012-02-25\n",
       "170   2012-02-07\n",
       "171   2012-02-29\n",
       "Name: Date received, dtype: datetime64[ns]"
      ]
     },
     "execution_count": 243,
     "metadata": {},
     "output_type": "execute_result"
    }
   ],
   "source": [
    "#Fill Missing Value for CreditCard Product Type\n",
    "dataset2.loc[dataset2['Product']=='Credit card', 'Date received'] = pd.to_datetime(dataset2.loc[dataset2['Product']=='Credit card', 'Date received'].fillna(value=CreditCard_WO_Date['Date received']))\n",
    "pd.to_datetime(dataset2.loc[dataset2['Product']=='Credit card', 'Date received'])"
   ]
  },
  {
   "cell_type": "code",
   "execution_count": 251,
   "metadata": {},
   "outputs": [
    {
     "data": {
      "text/plain": [
       "False"
      ]
     },
     "execution_count": 251,
     "metadata": {},
     "output_type": "execute_result"
    }
   ],
   "source": [
    "#Check if there's any null values for Data received now\n",
    "dataset2['Date received'] = pd.to_datetime(dataset2['Date received'])\n",
    "dataset2['Date received'].isnull().values.any()"
   ]
  },
  {
   "cell_type": "code",
   "execution_count": 259,
   "metadata": {},
   "outputs": [],
   "source": [
    "dataset2['Country']= 'United States'"
   ]
  },
  {
   "cell_type": "code",
   "execution_count": 260,
   "metadata": {},
   "outputs": [],
   "source": [
    "ExportFile = dataset2.to_excel('Users\\welcomemymaster\\Desktop\\sT\\Dataset2_Fix.xlsx', index=None)"
   ]
  },
  {
   "cell_type": "code",
   "execution_count": null,
   "metadata": {},
   "outputs": [],
   "source": []
  }
 ],
 "metadata": {
  "kernelspec": {
   "display_name": "Python 3",
   "language": "python",
   "name": "python3"
  },
  "language_info": {
   "codemirror_mode": {
    "name": "ipython",
    "version": 3
   },
   "file_extension": ".py",
   "mimetype": "text/x-python",
   "name": "python",
   "nbconvert_exporter": "python",
   "pygments_lexer": "ipython3",
   "version": "3.7.4"
  }
 },
 "nbformat": 4,
 "nbformat_minor": 2
}
