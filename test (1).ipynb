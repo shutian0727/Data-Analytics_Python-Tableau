{
 "cells": [
  {
   "cell_type": "code",
   "execution_count": 2,
   "metadata": {},
   "outputs": [
    {
     "name": "stdout",
     "output_type": "stream",
     "text": [
      "http://udacity.com\n"
     ]
    }
   ],
   "source": [
    "# TylerXu study note\n",
    "# L1: Extracting Links\n",
    "\n",
    "# Extract value of the first URL that appears in a link \n",
    "# tag in the string page. result http://udacity.com\n",
    "# page = contents of a web page\n",
    "page =('<div id=\"top_bin\"><div id=\"top_content\" class=\"width960\">'\n",
    "'<div class=\"udacity float-left\"><a href=\"http://udacity.com\">')\n",
    "start_link = page.find('<a href=')\n",
    "start_quote= start_link+9\n",
    "end=page.find('>', start_quote+1)\n",
    "url=page[start_quote: end-1]\n",
    "print (url)"
   ]
  },
  {
   "cell_type": "code",
   "execution_count": null,
   "metadata": {},
   "outputs": [],
   "source": []
  }
 ],
 "metadata": {
  "kernelspec": {
   "display_name": "Python 3",
   "language": "python",
   "name": "python3"
  },
  "language_info": {
   "codemirror_mode": {
    "name": "ipython",
    "version": 3
   },
   "file_extension": ".py",
   "mimetype": "text/x-python",
   "name": "python",
   "nbconvert_exporter": "python",
   "pygments_lexer": "ipython3",
   "version": "3.6.5"
  }
 },
 "nbformat": 4,
 "nbformat_minor": 2
}
